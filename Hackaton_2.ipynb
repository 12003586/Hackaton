{
  "nbformat": 4,
  "nbformat_minor": 0,
  "metadata": {
    "colab": {
      "provenance": [],
      "authorship_tag": "ABX9TyOaoMCtRnQ8DuDAa5s6Tvre",
      "include_colab_link": true
    },
    "kernelspec": {
      "name": "python3",
      "display_name": "Python 3"
    },
    "language_info": {
      "name": "python"
    }
  },
  "cells": [
    {
      "cell_type": "markdown",
      "metadata": {
        "id": "view-in-github",
        "colab_type": "text"
      },
      "source": [
        "<a href=\"https://colab.research.google.com/github/12003586/Hackaton/blob/main/Hackaton_2.ipynb\" target=\"_parent\"><img src=\"https://colab.research.google.com/assets/colab-badge.svg\" alt=\"Open In Colab\"/></a>"
      ]
    },
    {
      "cell_type": "code",
      "execution_count": 1,
      "metadata": {
        "colab": {
          "base_uri": "https://localhost:8080/"
        },
        "id": "nad-J2NXpaWx",
        "outputId": "ad11ebbb-89b9-4270-ca21-4832bb4feb5d"
      },
      "outputs": [
        {
          "output_type": "stream",
          "name": "stdout",
          "text": [
            "Mounted at /content/drive\n"
          ]
        }
      ],
      "source": [
        "from google.colab import drive\n",
        "drive.mount('/content/drive')"
      ]
    },
    {
      "cell_type": "code",
      "source": [
        "!unzip -uq \"/content/drive/My Drive/Colab Notebooks/Kaggle_Fruits360\" -d \"/content\""
      ],
      "metadata": {
        "colab": {
          "base_uri": "https://localhost:8080/"
        },
        "id": "6AemVj99pj_P",
        "outputId": "57757603-7db1-43de-e14f-2e13344212d7"
      },
      "execution_count": 5,
      "outputs": [
        {
          "output_type": "stream",
          "name": "stdout",
          "text": [
            "warning [/content/drive/My Drive/Colab Notebooks/Kaggle_Fruits360.zip]:  76 extra bytes at beginning or within zipfile\n",
            "  (attempting to process anyway)\n",
            "error [/content/drive/My Drive/Colab Notebooks/Kaggle_Fruits360.zip]:  reported length of central directory is\n",
            "  -76 bytes too long (Atari STZip zipfile?  J.H.Holm ZIPSPLIT 1.1\n",
            "  zipfile?).  Compensating...\n",
            "error:  expected central file header signature not found (file #90487).\n",
            "  (please check that you have transferred or created the zipfile in the\n",
            "  appropriate BINARY mode and that you have compiled UnZip properly)\n"
          ]
        }
      ]
    },
    {
      "cell_type": "code",
      "source": [
        "%cd /content/drive/My Drive/Colab Notebooks/Kaggle_Fruits360/fruits-360_dataset/fruits-360/Training"
      ],
      "metadata": {
        "colab": {
          "base_uri": "https://localhost:8080/"
        },
        "id": "svy3LnddrZ4K",
        "outputId": "e6dda8dd-b05d-48af-8476-aec7cf6f5575"
      },
      "execution_count": 8,
      "outputs": [
        {
          "output_type": "stream",
          "name": "stdout",
          "text": [
            "[Errno 2] No such file or directory: '/content/drive/My Drive/Colab Notebooks/Kaggle_Fruits360/fruits-360_dataset/fruits-360/Training'\n",
            "/content\n"
          ]
        }
      ]
    },
    {
      "cell_type": "code",
      "source": [
        "import cv2\n",
        "import numpy as np\n",
        "import matplotlib.pyplot as plt\n",
        "import matplotlib\n",
        "\n",
        "import pandas as pd\n",
        "\n",
        "from skimage.color import rgb2gray\n",
        "from skimage.transform import rescale, resize, downscale_local_mean\n",
        "\n",
        "from sklearn.model_selection import train_test_split\n",
        "from skimage import data, color, feature\n",
        "from skimage.feature import hog\n",
        "\n",
        "import glob"
      ],
      "metadata": {
        "id": "1QMbU4HlqaF8"
      },
      "execution_count": 6,
      "outputs": []
    },
    {
      "cell_type": "code",
      "source": [
        "def load_data(fruit, tipo):\n",
        "    label=[]\n",
        "    arr = []\n",
        "    strr = \"Kaggle_Fruits360/\"+fruit+\"/\" + tipo + \"/*\"\n",
        "    for file_ in glob.glob(strr):\n",
        "      img = cv2.imread(file_)\n",
        "      img = cv2.cvtColor(img, cv2.COLOR_BGR2RGB)\n",
        "      arr.append(img)\n",
        "      label.append(fruit)\n",
        "   \n",
        "    return arr,label"
      ],
      "metadata": {
        "id": "IptTl6x2qd6N"
      },
      "execution_count": 7,
      "outputs": []
    },
    {
      "cell_type": "code",
      "source": [
        "def whole_train_data(tipo):\n",
        "  apples_data, apples_label = load_data('Apples', tipo)\n",
        "  mangoes_data, mangoes_label = load_data('Mangoes', tipo)\n",
        "  oranges_data, oranges_label = load_data('Oranges', tipo)\n",
        "  data =np.concatenate((apples_data,mangoes_data,oranges_data))\n",
        "  labels =np.concatenate((apples_label, mangoes_label, oranges_label))\n",
        "  return data, labels"
      ],
      "metadata": {
        "id": "SUzhsubiqoR1"
      },
      "execution_count": null,
      "outputs": []
    },
    {
      "cell_type": "code",
      "source": [
        "data_train, labels_train = whole_train_data('Train')\n",
        "data_test, labels_test = whole_train_data('Test')"
      ],
      "metadata": {
        "id": "uvBaDxPIsIE2"
      },
      "execution_count": null,
      "outputs": []
    },
    {
      "cell_type": "code",
      "source": [
        "data_train.shape, labels_train.shape"
      ],
      "metadata": {
        "id": "Z4f3sUn2sKLZ"
      },
      "execution_count": null,
      "outputs": []
    },
    {
      "cell_type": "code",
      "source": [
        "def preprocessing(arr):\n",
        "    arr_prep=[]\n",
        "    for i in range(arr.shape[0]):\n",
        "        img=cv2.cvtColor(arr[i], cv2.COLOR_BGR2GRAY)\n",
        "        img=resize(img, (72, 72),anti_aliasing=True)\n",
        "        arr_prep.append(img)\n",
        "    return arr_prep"
      ],
      "metadata": {
        "id": "CdUxzV2WsMQI"
      },
      "execution_count": null,
      "outputs": []
    },
    {
      "cell_type": "code",
      "source": [
        "data_train_p = preprocessing(data_train)\n",
        "data_test_p = preprocessing(data_test)"
      ],
      "metadata": {
        "id": "R68DDUtesOxI"
      },
      "execution_count": null,
      "outputs": []
    },
    {
      "cell_type": "code",
      "source": [
        "type(data_train[0])"
      ],
      "metadata": {
        "id": "1Mu1_xKosQbT"
      },
      "execution_count": null,
      "outputs": []
    },
    {
      "cell_type": "code",
      "source": [
        "def ExtractHOG(img):\n",
        "    ftr,_=hog(img, orientations=8, pixels_per_cell=(16, 16),\n",
        "            cells_per_block=(1, 1), visualize=True, multichannel=False)\n",
        "    return ftr\n",
        "  \n",
        "def preprocessing_part_two(arr):\n",
        "    arr_feature=[]\n",
        "    for i in range(np.shape(arr)[0]):\n",
        "        arr_feature.append(ExtractHOG(arr[i])) \n",
        "    return arr_feature"
      ],
      "metadata": {
        "id": "nQLQftWKsSFY"
      },
      "execution_count": null,
      "outputs": []
    },
    {
      "cell_type": "code",
      "source": [
        "data_train_ftr = preprocessing_part_two(data_train_p)\n",
        "data_test_ftr= preprocessing_part_two(data_test_p)"
      ],
      "metadata": {
        "id": "Q17WzyirsUz9"
      },
      "execution_count": null,
      "outputs": []
    },
    {
      "cell_type": "code",
      "source": [
        "from sklearn.neighbors import KNeighborsClassifier\n",
        "from sklearn.metrics import accuracy_score\n",
        "\n",
        "knn_clf = KNeighborsClassifier(n_jobs=-1, weights='distance', n_neighbors=11)\n",
        "knn_clf.fit(data_train_ftr, labels_train)"
      ],
      "metadata": {
        "id": "77gJdEPusWq0"
      },
      "execution_count": null,
      "outputs": []
    },
    {
      "cell_type": "code",
      "source": [
        "y_knn_pred = knn_clf.predict(data_test_ftr)"
      ],
      "metadata": {
        "id": "qM9MRw3SsYgW"
      },
      "execution_count": null,
      "outputs": []
    },
    {
      "cell_type": "code",
      "source": [
        "print(accuracy_score(labels_test, y_knn_pred)*100,'%')"
      ],
      "metadata": {
        "id": "5FkkoEIisaXT"
      },
      "execution_count": null,
      "outputs": []
    },
    {
      "cell_type": "code",
      "source": [
        "def showImg(img, name):\n",
        "    plt.axis(\"off\")\n",
        "    plt.title(name)\n",
        "    plt.imshow(img)\n",
        "    plt.show()"
      ],
      "metadata": {
        "id": "zzeTMMkLscDd"
      },
      "execution_count": null,
      "outputs": []
    },
    {
      "cell_type": "code",
      "source": [
        "from random import seed\n",
        "from random import randint\n",
        "x_ = randint(0, data_test.shape[0])\n",
        "showImg(data_test[x_], y_knn_pred[x_])"
      ],
      "metadata": {
        "id": "Wm-S-eCJsdun"
      },
      "execution_count": null,
      "outputs": []
    }
  ]
}